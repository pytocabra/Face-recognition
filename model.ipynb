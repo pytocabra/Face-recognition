{
 "cells": [
  {
   "cell_type": "markdown",
   "source": [
    "# Face recognition model"
   ],
   "metadata": {}
  },
  {
   "cell_type": "markdown",
   "source": [
    "### Load images and detect faces on them"
   ],
   "metadata": {}
  },
  {
   "cell_type": "code",
   "execution_count": null,
   "source": [
    "import cv2 \r\n",
    "import os\r\n",
    "import numpy as np\r\n",
    "import matplotlib.pyplot as plt\r\n",
    "import pickle\r\n",
    "from random import shuffle\r\n",
    "\r\n",
    "\r\n",
    "DIRECTORY = r'C:\\Users\\Admin\\Desktop\\DATASET'\r\n",
    "\r\n",
    "ARTISTS = [\r\n",
    "    'Adele', 'Angelina Jolie', 'Arnold Schwarzenegger', \r\n",
    "    'Bon Jovi', 'Brad Pitt', 'Chuck Norris', 'Conor Mcgregor',\r\n",
    "    'Cristiano Ronaldo', 'Ed Sheeran', 'Eddie Murphy'\r\n",
    "    ]\r\n",
    "    \r\n",
    "face_cascade = cv2.CascadeClassifier('haarcascade_frontalface_default.xml')\r\n",
    "IMAGE_SIZE = 160\r\n",
    "train_data = []\r\n",
    "\r\n",
    "\r\n",
    "for artist in ARTISTS:\r\n",
    "    \r\n",
    "    path = os.path.join(DIRECTORY, artist)\r\n",
    "    class_label = ARTISTS.index(artist)\r\n",
    "    \r\n",
    "    for image in os.listdir(path):\r\n",
    "        \r\n",
    "        img = cv2.imread(os.path.join(path, image), cv2.IMREAD_COLOR)\r\n",
    "        detected_faces = face_cascade.detectMultiScale(img, 1.3, 5)\r\n",
    "        \r\n",
    "        try:\r\n",
    "            (x,y,w,h) = detected_faces[0]\r\n",
    "            roi = img[y:y+h, x:x+w]\r\n",
    "            new_array = cv2.resize(roi, (IMAGE_SIZE, IMAGE_SIZE))\r\n",
    "            train_data.append([new_array, class_label]) \r\n",
    "        except:\r\n",
    "            print(f'Face not found: {path} {image}')\r\n",
    "            "
   ],
   "outputs": [],
   "metadata": {}
  },
  {
   "cell_type": "markdown",
   "source": [
    "### Shuffle images and prepare to be saved"
   ],
   "metadata": {}
  },
  {
   "cell_type": "code",
   "execution_count": null,
   "source": [
    "shuffle(train_data)\r\n",
    "\r\n",
    "X = []\r\n",
    "y = []\r\n",
    "\r\n",
    "for image, label in train_data:\r\n",
    "    X.append(image)\r\n",
    "    y.append(label)\r\n",
    "    \r\n",
    "X = np.array(X).reshape(-1, IMAGE_SIZE, IMAGE_SIZE, 3)\r\n",
    "y = np.array(y)"
   ],
   "outputs": [],
   "metadata": {}
  },
  {
   "cell_type": "markdown",
   "source": [
    "### Save training data"
   ],
   "metadata": {}
  },
  {
   "cell_type": "code",
   "execution_count": null,
   "source": [
    "with open('faces_x_pickle.pkl', 'wb') as pickle_file:\r\n",
    "    pickle.dump(X, pickle_file)\r\n",
    "    \r\n",
    "with open('faces_y_pickle.pkl', 'wb') as pickle_file:\r\n",
    "    pickle.dump(y, pickle_file)"
   ],
   "outputs": [],
   "metadata": {}
  },
  {
   "cell_type": "markdown",
   "source": [
    "### Load data from file"
   ],
   "metadata": {}
  },
  {
   "cell_type": "code",
   "execution_count": null,
   "source": [
    "import pickle \r\n",
    "\r\n",
    "with open('faces_x_pickle.pkl', 'rb') as pickle_file:\r\n",
    "    X = pickle.load(pickle_file)\r\n",
    "    \r\n",
    "with open('faces_y_pickle.pkl', 'rb') as pickle_file:\r\n",
    "    y = pickle.load(pickle_file)"
   ],
   "outputs": [],
   "metadata": {}
  },
  {
   "cell_type": "markdown",
   "source": [
    "### Normalize data to be in range [0, 1]"
   ],
   "metadata": {}
  },
  {
   "cell_type": "code",
   "execution_count": null,
   "source": [
    "X = X/255.0"
   ],
   "outputs": [],
   "metadata": {}
  },
  {
   "cell_type": "markdown",
   "source": [
    "## CNN Model"
   ],
   "metadata": {}
  },
  {
   "cell_type": "code",
   "execution_count": null,
   "source": [
    "from tensorflow.keras.models import Sequential\r\n",
    "from tensorflow.keras.layers import Conv2D, Dense, Dropout, Flatten, MaxPooling2D\r\n",
    "from tensorflow.keras.callbacks import TensorBoard\r\n",
    "import time\r\n",
    "\r\n",
    "NAME = f\"Facial-recognition-celebs-best-best-{int(time.time())}\"\r\n",
    "tensorboard = TensorBoard(log_dir=f'logs3\\\\{NAME}')\r\n",
    "\r\n",
    "model = Sequential([\r\n",
    "    Conv2D(64, (3,3), activation='relu', input_shape=X.shape[1:]),\r\n",
    "    MaxPooling2D(2,2),\r\n",
    "    \r\n",
    "    Conv2D(64, (3,3), activation='relu'),\r\n",
    "    MaxPooling2D(2,2),\r\n",
    "    \r\n",
    "    Conv2D(128, (3,3), activation='relu'), \r\n",
    "    MaxPooling2D(2,2),\r\n",
    "    \r\n",
    "    Conv2D(256, (3,3), activation='relu'), \r\n",
    "    MaxPooling2D(2,2),\r\n",
    "    \r\n",
    "    Flatten(),\r\n",
    "    Dense(1024, activation='relu'),\r\n",
    "    Dropout(0.05),\r\n",
    "    Dense(10, activation='softmax')\r\n",
    "])\r\n",
    "\r\n",
    "model.compile(loss='sparse_categorical_crossentropy', \r\n",
    "             optimizer='adam',\r\n",
    "             metrics=['accuracy'])\r\n",
    "\r\n",
    "\r\n",
    "model.fit(X, y, batch_size=16, epochs=20, validation_split=0.15, callbacks=[tensorboard])\r\n",
    "\r\n",
    "model.save('best_saved_model/')"
   ],
   "outputs": [],
   "metadata": {}
  },
  {
   "cell_type": "markdown",
   "source": [
    "## Additional - during research"
   ],
   "metadata": {}
  },
  {
   "cell_type": "markdown",
   "source": [
    "### Build. train and save logs in tensorboard of many models to choose the best architecture of CNN"
   ],
   "metadata": {}
  },
  {
   "cell_type": "code",
   "execution_count": null,
   "source": [
    "import time\r\n",
    "\r\n",
    "dense_layers = [0, 1]\r\n",
    "layer_filters = [32, 64, 128, 256]\r\n",
    "conv_layers = [2, 3, 4]\r\n",
    "\r\n",
    "for dense_layer in dense_layers:\r\n",
    "    for layer_filter in layer_filters:\r\n",
    "        for conv_layer in conv_layers:\r\n",
    "            NAME = f'{conv_layer}-conv-{layer_filter}-filters-{dense_layer}-dense-{int(time.time())}'\r\n",
    "            tensorboard = TensorBoard(log_dir=f'logs\\\\{NAME}')\r\n",
    "            model = Sequential()\r\n",
    "            model.add(Conv2D(layer_filter, (3,3), activation='relu', input_shape=X.shape[1:]))\r\n",
    "            model.add(MaxPooling2D(2,2))\r\n",
    "            \r\n",
    "            for l in range(conv_layer-1):\r\n",
    "                model.add(Conv2D(layer_filter, (3,3), activation='relu'))\r\n",
    "                model.add(MaxPooling2D(2,2))\r\n",
    "                \r\n",
    "            model.add(Flatten())\r\n",
    "            \r\n",
    "            for l in range(dense_layer):\r\n",
    "                model.add(Dense(1024, activation='relu'))\r\n",
    "            \r\n",
    "            model.add(Dense(10, activation='softmax'))\r\n",
    "            model.compile(loss='sparse_categorical_crossentropy', \r\n",
    "                         optimizer='adam',\r\n",
    "                         metrics=['accuracy'])\r\n",
    "            model.fit(X, y, batch_size=16, epochs=15, validation_split=0.15, callbacks=[tensorboard])"
   ],
   "outputs": [],
   "metadata": {}
  }
 ],
 "metadata": {
  "kernelspec": {
   "display_name": "Python 3",
   "language": "python",
   "name": "python3"
  },
  "language_info": {
   "codemirror_mode": {
    "name": "ipython",
    "version": 3
   },
   "file_extension": ".py",
   "mimetype": "text/x-python",
   "name": "python",
   "nbconvert_exporter": "python",
   "pygments_lexer": "ipython3",
   "version": "3.7.9"
  }
 },
 "nbformat": 4,
 "nbformat_minor": 4
}